{
 "cells": [
  {
   "cell_type": "code",
   "execution_count": 1,
   "metadata": {},
   "outputs": [],
   "source": [
    "import random\n",
    "import torch\n",
    "import numpy as np\n",
    "from collections import deque\n",
    "import matplotlib.pyplot as plt\n",
    "%matplotlib inline\n",
    "\n",
    "from ddpg_agent import Agent"
   ]
  },
  {
   "cell_type": "code",
   "execution_count": 60,
   "metadata": {},
   "outputs": [],
   "source": [
    "class CartAcrobat:\n",
    "\n",
    "    def __init__(self, l1=1, l2=1, m=(0.3, 0.2, 0.2), b=(0.2, 0.01, 0.01), g=9.81, rail_lims=(-3, 3), force_lims=(-20, 20), num_instances=1):\n",
    "        self.g = np.float64(9.81)\n",
    "        self.l1 = np.float64(l1)\n",
    "        self.l2 = np.float64(l2)\n",
    "        self.m = np.array(m, dtype=np.float64)\n",
    "        self.b = np.array(b, dtype=np.float64)\n",
    "        self.g = np.float64(g)\n",
    "        self.rail_lims = np.array(rail_lims, dtype=np.float64)\n",
    "        self.force_lims = np.array(force_lims, dtype=np.float64)\n",
    "\n",
    "        # System dimensions\n",
    "        self.n_u = 1  # inputs\n",
    "        self.n_d = 3  # degrees of freedom\n",
    "        self.n_q = 2 * self.n_d  # states\n",
    "\n",
    "        self.init_state = [None]\n",
    "        self.state = [None]\n",
    "        self.time_elapsed = np.zeros(num_instances)\n",
    "        self.num_of_instances = num_instances\n",
    "\n",
    "    def update_state(self, q):\n",
    "        # TODO: check if size of q coresponds to number of instances\n",
    "        self.state = q\n",
    "        self.init_state = q\n",
    "\n",
    "    def get_position_to_plot(self):\n",
    "        q = self.state[0]\n",
    "        x = np.cumsum([q[0],\n",
    "                       self.l1 * np.sin(q[1]),\n",
    "                       self.l2 * np.sin(q[2])])\n",
    "        y = np.cumsum([0,\n",
    "                       self.l1 * np.cos(q[1]),\n",
    "                       self.l2 * np.cos(q[2])])\n",
    "        return (x, y)\n",
    "\n",
    "    def energy(self):\n",
    "        return 0.0\n",
    "    \n",
    "    def get_norm_hight(self):\n",
    "        q = self.state\n",
    "        h1 = np.cos(q[:, 1])\n",
    "        h2 = (self.l1 * h1 + self.l2* np.cos(q[:, 2])) / (self.l1 + self.l2)\n",
    "        return h1, h2\n",
    "\n",
    "    def dstate_dt(self, u, dt=0.05):\n",
    "        q = self.state\n",
    "        theta1 = q[:, 1]\n",
    "        theta2 = q[:, 2]\n",
    "        dp = q[:, 3]\n",
    "        dtheta1 = q[:, 4]\n",
    "        dtheta2 = q[:, 5]\n",
    "\n",
    "        b = [min(my_iter, 1 / dt - 1e-10) for my_iter in self.b]\n",
    "\n",
    "        M = np.zeros((self.num_of_instances, 3,3))\n",
    "        M[:, 0, 0] = np.sum(self.m)\n",
    "        M[:, 0, 1] = self.l1 * (self.m[1] + self.m[2]) * np.cos(theta1)\n",
    "        M[:, 0, 2] = self.m[2] * self.l2 * np.cos(theta2)\n",
    "\n",
    "        M[:, 1, 0] = M[:, 0, 1]\n",
    "        M[:, 1, 1] = (self.l1 ** 2) * (self.m[1] + self.m[2])\n",
    "        M[:, 1, 2] = self.l1 * self.l2 * self.m[2] * np.cos(theta1 - theta2)\n",
    "\n",
    "        M[:, 2, 0] = M[:, 0, 2]\n",
    "        M[:, 2, 1] = M[:, 1, 2]\n",
    "        M[:, 2, 2] = (self.l2 ** 2) * self.m[2]\n",
    "\n",
    "        P1 = np.zeros((self.num_of_instances, 3,1))\n",
    "        P1[:, 0, 0] = ((self.l1 * (self.m[1] + self.m[2]) * (dtheta1 ** 2) * np.sin(theta1))\n",
    "                    + (self.m[2] * self.l2 * (dtheta2 ** 2) * np.sin(theta2)))\n",
    "        P1[:, 1, 0] = ((-1) * self.l1 * self.l2 * self.m[2] * (dtheta2 ** 2) * np.sin(theta1 - theta2)\n",
    "                    + self.g * (self.m[1] + self.m[2]) * self.l1 * np.sin(theta1))\n",
    "        P1[:, 2, 0] = (self.l1 * self.l2 * self.m[2] * (dtheta1 ** 2) * np.sin(theta1 - theta2)\n",
    "                    + self.g * self.l2 * self.m[2] * np.sin(theta2))\n",
    "\n",
    "        P2 = b * self.state[:, self.n_d:]\n",
    "        P2 = P2.reshape((5,3, 1))\n",
    "\n",
    "        P3 = np.zeros((5, 3, 1))\n",
    "        P3[:, 0, 0] = u.reshape(5)\n",
    "\n",
    "        P = P1 - P2 + P3\n",
    "\n",
    "        d_y = np.matmul(np.linalg.inv(M), P)\n",
    "        return(d_y.reshape((5, 3)))\n",
    "\n",
    "\n",
    "    def step(self, u, dt, disturb=0.0):\n",
    "        done = False\n",
    "        q = self.state\n",
    "        q = np.array(q, dtype=np.float64)\n",
    "\n",
    "        # Enforce input saturation and add disturbance\n",
    "        u_act = np.clip(np.float64(u), self.force_lims[0], self.force_lims[1]) + disturb\n",
    "\n",
    "        # Get numpy views of pose and twist, and compute accel\n",
    "        pose = np.copy(q[:, :self.n_d])\n",
    "        twist = np.copy(q[:, self.n_d:])\n",
    "        accel = self.dstate_dt(u, dt=dt)\n",
    "\n",
    "        # Partial-Verlet integrate state and enforce rail constraints\n",
    "        pose_next = pose + dt * twist + 0.5 * (dt ** 2)\n",
    "        done = np.logical_or(ca.state[:, 0] < ca.rail_lims[0], ca.state[:, 0] > ca.rail_lims[1] )\n",
    "        pose_next[:, 0] = np.clip(pose_next[:, 0], ca.rail_lims[0], ca.rail_lims[1])\n",
    "        \n",
    "        twist_next = twist + dt * accel\n",
    "\n",
    "        # Return next state = [pose, twist]\n",
    "        pose_next[1:3] = np.mod(pose_next[1:3] + np.pi, 2 * np.pi) - np.pi  # unwrap angles onto [-pi, pi]\n",
    "        self.update_state(np.concatenate([pose, twist], axis=1))\n",
    "        self.time_elapsed += dt\n",
    "        reward = self.get_norm_hight()\n",
    "        reward += done * -1000\n",
    "        if np.any(done):\n",
    "            self.reset(hard=False, done=done)\n",
    "        return self.state, reward, done, ''\n",
    "    \n",
    "    def reset(self, hard=True, done=None):\n",
    "        if hard:\n",
    "            self.state = self.init_state\n",
    "        else:\n",
    "            for i in done:\n",
    "                if i == True:\n",
    "                    self.state[i] = np.copy(self.init_state[i])\n",
    "        return self.state"
   ]
  },
  {
   "cell_type": "code",
   "execution_count": 61,
   "metadata": {},
   "outputs": [],
   "source": [
    "ca = CartAcrobat(num_instances=5)"
   ]
  },
  {
   "cell_type": "code",
   "execution_count": 67,
   "metadata": {},
   "outputs": [],
   "source": [
    "Q = np.random.sample((ca.num_of_instances, ca.n_q))\n",
    "U = np.zeros((ca.num_of_instances, ca.n_u))\n",
    "ca.update_state(Q)"
   ]
  },
  {
   "cell_type": "code",
   "execution_count": 70,
   "metadata": {},
   "outputs": [
    {
     "data": {
      "text/plain": [
       "array([[0.],\n",
       "       [0.],\n",
       "       [0.],\n",
       "       [3.],\n",
       "       [0.]])"
      ]
     },
     "execution_count": 70,
     "metadata": {},
     "output_type": "execute_result"
    }
   ],
   "source": [
    "U"
   ]
  },
  {
   "cell_type": "code",
   "execution_count": 66,
   "metadata": {},
   "outputs": [],
   "source": [
    "for i in range(10000):\n",
    "    ca.step(U, 0.02)"
   ]
  },
  {
   "cell_type": "code",
   "execution_count": 51,
   "metadata": {},
   "outputs": [],
   "source": []
  },
  {
   "cell_type": "code",
   "execution_count": 52,
   "metadata": {},
   "outputs": [
    {
     "data": {
      "text/plain": [
       "array([[0.96469113, 0.43316453, 0.99436473, 0.93489094, 0.58738785,\n",
       "        0.99878869],\n",
       "       [0.90084831, 0.46424365, 0.03352145, 0.74443844, 0.71724308,\n",
       "        0.87937846],\n",
       "       [0.55203652, 0.60120756, 0.43551384, 0.65048701, 0.87102844,\n",
       "        0.97938222],\n",
       "       [0.59742915, 0.17261984, 0.62556372, 0.47572414, 0.90268639,\n",
       "        0.85979531],\n",
       "       [0.43586905, 0.19950139, 0.7198676 , 0.34785535, 0.88145084,\n",
       "        0.41891073]])"
      ]
     },
     "execution_count": 52,
     "metadata": {},
     "output_type": "execute_result"
    }
   ],
   "source": []
  },
  {
   "cell_type": "code",
   "execution_count": 53,
   "metadata": {},
   "outputs": [
    {
     "data": {
      "text/plain": [
       "array([[0.93489094, 0.58738785, 0.99878869],\n",
       "       [0.74443844, 0.71724308, 0.87937846],\n",
       "       [0.65048701, 0.87102844, 0.97938222],\n",
       "       [0.47572414, 0.90268639, 0.85979531],\n",
       "       [0.34785535, 0.88145084, 0.41891073]])"
      ]
     },
     "execution_count": 53,
     "metadata": {},
     "output_type": "execute_result"
    }
   ],
   "source": [
    "twist"
   ]
  },
  {
   "cell_type": "code",
   "execution_count": 48,
   "metadata": {},
   "outputs": [],
   "source": [
    "q = ca.state\n",
    "theta1 = q[:, 1]\n",
    "theta2 = q[:, 2]\n",
    "dp = q[:, 3]\n",
    "dtheta1 = q[:, 4]\n",
    "dtheta2 = q[:, 5]"
   ]
  },
  {
   "cell_type": "code",
   "execution_count": 51,
   "metadata": {},
   "outputs": [
    {
     "data": {
      "text/plain": [
       "array([0.0007633 , 0.02330333, 0.30486201, 0.04081109, 0.00178623])"
      ]
     },
     "execution_count": 51,
     "metadata": {},
     "output_type": "execute_result"
    }
   ],
   "source": [
    "(dtheta1 ** 2) * np.sin(theta1)"
   ]
  },
  {
   "cell_type": "code",
   "execution_count": 53,
   "metadata": {},
   "outputs": [
    {
     "data": {
      "text/plain": [
       "array([0.66540017, 0.46390301, 0.51931946, 0.37251185, 0.40049997])"
      ]
     },
     "execution_count": 53,
     "metadata": {},
     "output_type": "execute_result"
    }
   ],
   "source": [
    "np.sin(theta1)"
   ]
  },
  {
   "cell_type": "code",
   "execution_count": 56,
   "metadata": {},
   "outputs": [],
   "source": [
    "b= [1,2,3]"
   ]
  },
  {
   "cell_type": "code",
   "execution_count": 60,
   "metadata": {},
   "outputs": [
    {
     "ename": "ValueError",
     "evalue": "operands could not be broadcast together with shapes (3,) (3,6) ",
     "output_type": "error",
     "traceback": [
      "\u001b[0;31m---------------------------------------------------------------------------\u001b[0m",
      "\u001b[0;31mValueError\u001b[0m                                Traceback (most recent call last)",
      "\u001b[0;32m<ipython-input-60-e5fdba1ef07d>\u001b[0m in \u001b[0;36m<module>\u001b[0;34m\u001b[0m\n\u001b[0;32m----> 1\u001b[0;31m \u001b[0mb\u001b[0m \u001b[0;34m*\u001b[0m \u001b[0mca\u001b[0m\u001b[0;34m.\u001b[0m\u001b[0mstate\u001b[0m\u001b[0;34m[\u001b[0m\u001b[0;36m2\u001b[0m\u001b[0;34m:\u001b[0m\u001b[0;34m]\u001b[0m\u001b[0;34m\u001b[0m\u001b[0;34m\u001b[0m\u001b[0m\n\u001b[0m",
      "\u001b[0;31mValueError\u001b[0m: operands could not be broadcast together with shapes (3,) (3,6) "
     ]
    }
   ],
   "source": [
    "b * ca.state[2:]"
   ]
  },
  {
   "cell_type": "code",
   "execution_count": 71,
   "metadata": {},
   "outputs": [
    {
     "data": {
      "text/plain": [
       "array([[0.90390661, 0.72802976, 0.37270502],\n",
       "       [0.48051261, 0.48239591, 0.77707817],\n",
       "       [0.98829331, 0.54605441, 0.41513577],\n",
       "       [0.06176076, 0.38171421, 0.7367006 ],\n",
       "       [0.53826272, 0.41206242, 0.57471711]])"
      ]
     },
     "execution_count": 71,
     "metadata": {},
     "output_type": "execute_result"
    }
   ],
   "source": [
    "ca.state[:, :3]"
   ]
  },
  {
   "cell_type": "code",
   "execution_count": 72,
   "metadata": {},
   "outputs": [
    {
     "data": {
      "text/plain": [
       "array([[0.90390661, 1.45605951, 1.11811506],\n",
       "       [0.48051261, 0.96479182, 2.33123452],\n",
       "       [0.98829331, 1.09210882, 1.24540732],\n",
       "       [0.06176076, 0.76342842, 2.21010179],\n",
       "       [0.53826272, 0.82412485, 1.72415132]])"
      ]
     },
     "execution_count": 72,
     "metadata": {},
     "output_type": "execute_result"
    }
   ],
   "source": [
    "b * ca.state[:, :3]"
   ]
  },
  {
   "cell_type": "code",
   "execution_count": null,
   "metadata": {},
   "outputs": [],
   "source": []
  }
 ],
 "metadata": {
  "kernelspec": {
   "display_name": "Python 3",
   "language": "python",
   "name": "python3"
  },
  "language_info": {
   "codemirror_mode": {
    "name": "ipython",
    "version": 3
   },
   "file_extension": ".py",
   "mimetype": "text/x-python",
   "name": "python",
   "nbconvert_exporter": "python",
   "pygments_lexer": "ipython3",
   "version": "3.7.2"
  }
 },
 "nbformat": 4,
 "nbformat_minor": 4
}
